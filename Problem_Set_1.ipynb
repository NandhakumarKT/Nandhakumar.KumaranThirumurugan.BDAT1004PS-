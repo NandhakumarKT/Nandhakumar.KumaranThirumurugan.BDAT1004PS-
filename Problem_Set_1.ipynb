{
 "cells": [
  {
   "cell_type": "markdown",
   "id": "d05377e1-5bbd-4323-88eb-c9a0805044c4",
   "metadata": {},
   "source": [
    "## **Question 1 (Python)**\n",
    "**Identify the data type of each of the following:**\n",
    "\n",
    "1. `5`\n",
    "2. `5.0`\n",
    "3. `5 > 1`\n",
    "4. `'5'`\n",
    "5. `5 * 2`\n",
    "6. `'5' * 2`\n",
    "7. `'5' + '2'`\n",
    "8. `5 / 2`\n",
    "9. `5 % 2`\n",
    "10. `{5, 2, 1}`\n",
    "11. `5 == 3`\n",
    "12. Pi (the number)\n"
   ]
  },
  {
   "cell_type": "markdown",
   "id": "5b7a467f-735e-410c-bf1e-8facafcc8f03",
   "metadata": {},
   "source": [
    "## SOLUTION\n",
    "|Value              | Data Type                                                                              |                \n",
    "| :---              |-----------------:                                                                      |          \n",
    "| 5                 | int  (Integer)                                                                         | \n",
    "| 5.0               | float                                                                                  |  \n",
    "| 5 > 1             | bool  (Boolean)                                                                        |  \n",
    "| '5'               | str   (String)                                                                         |  \n",
    "| 5 * 2             | int  (Integer)                                                                         |   \n",
    "| '5' * 2           | str   (String)                                                                         |  \n",
    "| '5' + '2'         | str   (String)                                                                         | \n",
    "| 5 / 2             | float                                                                                  |\n",
    "| 5 % 2             | int  (Integer)                                                                         |\n",
    "| {5, 2, 1}         | list                                                                                   |  \n",
    "| 5 == 3            | bool  (Boolean)                                                                        |\n",
    "| Pi (the number)   | float                                                                                  |"
   ]
  },
  {
   "cell_type": "markdown",
   "id": "7eb7e8fd-fe9d-4b89-aa68-718e425077ba",
   "metadata": {},
   "source": [
    "## **Question 2 (Python)**\n",
    "**Write (and evaluate) Python expressions that answer these questions:**\n",
    "\n",
    "### **a. How many letters are there in 'Supercalifragilisticexpialidocious'?**\n"
   ]
  },
  {
   "cell_type": "code",
   "execution_count": 733,
   "id": "9c378f56-984f-4fbc-8e02-143b0b79d1e6",
   "metadata": {},
   "outputs": [
    {
     "name": "stdout",
     "output_type": "stream",
     "text": [
      "Number of letters: 34\n"
     ]
    }
   ],
   "source": [
    "word = \"Supercalifragilisticexpialidocious\"\n",
    "letter_count = len(word)\n",
    "print(f\"Number of letters: {letter_count}\")\n"
   ]
  },
  {
   "cell_type": "markdown",
   "id": "a4cee34b-c79a-4766-98e4-21f345e3101a",
   "metadata": {},
   "source": [
    "# Output:\n",
    "Number of letters: 34\n"
   ]
  },
  {
   "cell_type": "markdown",
   "id": "3db1ea12-777f-416e-9f81-f1000586a8db",
   "metadata": {},
   "source": [
    "### **b. Does 'Supercalifragilisticexpialidocious' contain 'ice' as a substring?**\n"
   ]
  },
  {
   "cell_type": "code",
   "execution_count": 736,
   "id": "6e3c5fb2-4524-43c2-9ce9-9e63be01f364",
   "metadata": {},
   "outputs": [
    {
     "name": "stdout",
     "output_type": "stream",
     "text": [
      "Contains 'ice': True\n"
     ]
    }
   ],
   "source": [
    "word = \"Supercalifragilisticexpialidocious\"\n",
    "contains_ice = \"ice\" in word.lower()\n",
    "print(f\"Contains 'ice': {contains_ice}\")\n"
   ]
  },
  {
   "cell_type": "markdown",
   "id": "c6b282ac-8d83-4b8a-b23a-df9ead3e716d",
   "metadata": {},
   "source": [
    "# Output:\n",
    "Contains 'ice': True\n"
   ]
  },
  {
   "cell_type": "markdown",
   "id": "06437bf7-3344-46c5-b996-4393bcfb9807",
   "metadata": {},
   "source": [
    "### **c. Which of the following words is the longest: 'Supercalifragilisticexpialidocious', 'Honorificabilitudinitatibus', or 'Bababadalgharaghtakamminarronnkonn'?**\n"
   ]
  },
  {
   "cell_type": "code",
   "execution_count": 739,
   "id": "e36d189f-a23d-4028-9135-6a3b5e5e1931",
   "metadata": {},
   "outputs": [
    {
     "name": "stdout",
     "output_type": "stream",
     "text": [
      "The longest word is: Supercalifragilisticexpialidocious\n"
     ]
    }
   ],
   "source": [
    "words = [\n",
    "    \"Supercalifragilisticexpialidocious\",\n",
    "    \"Honorificabilitudinitatibus\",\n",
    "    \"Bababadalgharaghtakamminarronnkonn\"\n",
    "]\n",
    "\n",
    "# Determine the longest word\n",
    "longest_word = max(words, key=len)\n",
    "print(f\"The longest word is: {longest_word}\")\n"
   ]
  },
  {
   "cell_type": "markdown",
   "id": "88b7d7df-562b-4ba9-823a-860b59afdbf5",
   "metadata": {},
   "source": [
    "# Output:\n",
    "The longest word is: Bababadalgharaghtakamminarronnkonn\n"
   ]
  },
  {
   "cell_type": "markdown",
   "id": "b43b3226-bd79-4d35-8aa9-b7e60191fc71",
   "metadata": {},
   "source": [
    "### **d. Which composer comes first and last in the dictionary: 'Berlioz', 'Borodin', 'Brian', 'Bartok', 'Bellini', 'Buxtehude', 'Bernstein'?**\n"
   ]
  },
  {
   "cell_type": "code",
   "execution_count": 742,
   "id": "d9a005e0-f294-4b3e-9909-97b14881b4cc",
   "metadata": {},
   "outputs": [
    {
     "name": "stdout",
     "output_type": "stream",
     "text": [
      "Composers in alphabetical order:\n",
      "Bartok\n",
      "Bellini\n",
      "Berlioz\n",
      "Bernstein\n",
      "Borodin\n",
      "Brian\n",
      "Buxtehude\n",
      "\n",
      "First: Bartok\n",
      "Last: Buxtehude\n"
     ]
    }
   ],
   "source": [
    "composers = [\"Berlioz\", \"Borodin\", \"Brian\", \"Bartok\", \"Bellini\", \"Buxtehude\", \"Bernstein\"]\n",
    "\n",
    "# Sort composers alphabetically\n",
    "sorted_composers = sorted(composers)\n",
    "\n",
    "print(\"Composers in alphabetical order:\")\n",
    "for composer in sorted_composers:\n",
    "    print(composer)\n",
    "\n",
    "# First and Last composer\n",
    "first_composer = sorted_composers[0]\n",
    "last_composer = sorted_composers[-1]\n",
    "\n",
    "print(f\"\\nFirst: {first_composer}\")\n",
    "print(f\"Last: {last_composer}\")\n"
   ]
  },
  {
   "cell_type": "markdown",
   "id": "3f11b2c3-a499-47f0-8149-c9e29b0174b7",
   "metadata": {},
   "source": [
    "# Output:\n",
    "Composers in alphabetical order:\n",
    "Bartok\n",
    "Bernstein\n",
    "Bellini\n",
    "Berlioz\n",
    "Borodin\n",
    "Brian\n",
    "Buxtehude\n",
    "\n",
    "First: Bartok\n",
    "Last: Buxtehude\n"
   ]
  },
  {
   "cell_type": "markdown",
   "id": "bff12488-fc13-4adc-90b6-76590ad2f3b3",
   "metadata": {},
   "source": [
    "## **Question 3 (Python)**\n",
    "**Implement function `triangle_area(a, b, c)` that takes as input the lengths of the 3 sides of a triangle and returns the area of the triangle using Heron's formula.**\n"
   ]
  },
  {
   "cell_type": "code",
   "execution_count": 745,
   "id": "5f764fca-81f4-4e81-a083-29711198c18f",
   "metadata": {},
   "outputs": [
    {
     "name": "stdout",
     "output_type": "stream",
     "text": [
      "1.7320508075688772\n"
     ]
    }
   ],
   "source": [
    "import math\n",
    "\n",
    "def triangle_area(a, b, c):\n",
    "\n",
    "    # Calculate semi-perimeter\n",
    "    s = (a + b + c) / 2\n",
    "    # Calculate area using Heron's formula\n",
    "    area = math.sqrt(s * (s - a) * (s - b) * (s - c))\n",
    "    return area\n",
    "\n",
    "# Test case\n",
    "area = triangle_area(2, 2, 2)\n",
    "print(area)  # Output: 1.7320508075688772\n"
   ]
  },
  {
   "cell_type": "markdown",
   "id": "631a0165-45d1-4999-b76f-28181cd3fdee",
   "metadata": {},
   "source": [
    "**Output:**\n"
   ]
  },
  {
   "cell_type": "markdown",
   "id": "5c2165fc-35ac-4a58-a0cb-833b6b553550",
   "metadata": {},
   "source": [
    "# Output:\n",
    "1.7320508075688772\n"
   ]
  },
  {
   "cell_type": "markdown",
   "id": "a1694d5c-2f51-4d3e-8642-59b5cd3dd829",
   "metadata": {},
   "source": [
    "## **Question 4 (Python)**\n",
    "**Write a program in Python to separate odd and even integers in separate lists.**\n",
    "\n",
    "**Sample Input:**\n"
   ]
  },
  {
   "cell_type": "code",
   "execution_count": 749,
   "id": "9dce0aae-e25e-405a-a2b6-5931eadcca24",
   "metadata": {},
   "outputs": [],
   "source": [
    "def separate_odd_even():\n",
    "    try:\n",
    "        n = int(input(\"Input the number of elements to be stored in the array: \"))\n",
    "        array = []\n",
    "        print(f\"Input {n} elements in the array:\")\n",
    "        for i in range(n):\n",
    "            element = int(input(f\"element - {i} : \"))\n",
    "            array.append(element)\n",
    "        \n",
    "        even = [num for num in array if num % 2 == 0]\n",
    "        odd = [num for num in array if num % 2 != 0]\n",
    "        \n",
    "        print(\"\\nThe Even elements are:\")\n",
    "        for num in even:\n",
    "            print(num, end=' ')\n",
    "        \n",
    "        print(\"\\nThe Odd elements are :\")\n",
    "        for num in odd:\n",
    "            print(num, end=' ')\n",
    "    \n",
    "    except ValueError:\n",
    "        print(\"Please enter valid integers.\")\n",
    "\n",
    "\n",
    "# separate_odd_even()\n"
   ]
  },
  {
   "cell_type": "markdown",
   "id": "f3990929-db1f-4059-baf4-2ca705de8f36",
   "metadata": {},
   "source": [
    "# Output:\n",
    "Input the number of elements to be stored in the array: 5\n",
    "Input 5 elements in the array:\n",
    "element - 0 : 27\n",
    "element - 1 : 49\n",
    "element - 2 : 44\n",
    "element - 3 : 58\n",
    "element - 4 : 34\n",
    "\n",
    "The Even elements are:\n",
    "44 58 34 \n",
    "The Odd elements are :\n",
    "27 49 \n"
   ]
  },
  {
   "cell_type": "markdown",
   "id": "cfcdcc20-7267-42ff-a238-baa1609eef50",
   "metadata": {},
   "source": [
    "## **Question 5 (Python)**\n",
    "**a. Write a function `inside(x, y, x1, y1, x2, y2)` that returns `True` or `False` depending on whether the point `(x, y)` lies in the rectangle with lower left corner `(x1, y1)` and upper right corner `(x2, y2)`.\n",
    "\n",
    "**b. Use function `inside()` from part a. to write an expression that tests whether the point `(1,1)` lies in both of the following rectangles: one with lower left corner `(0.3, 0.5)` and upper right corner `(1.1, 0.7)` and the other with lower left corner `(0.5, 0.2)` and upper right corner `(1.1, 2)`.**\n"
   ]
  },
  {
   "cell_type": "code",
   "execution_count": 752,
   "id": "77acc211-cf03-49c0-b3a0-ecce55d9a383",
   "metadata": {},
   "outputs": [
    {
     "name": "stdout",
     "output_type": "stream",
     "text": [
      "True\n",
      "False\n",
      "Point (1,1) is inside both rectangles: False\n"
     ]
    }
   ],
   "source": [
    "def inside(x, y, x1, y1, x2, y2):\n",
    "    return x1 <= x <= x2 and y1 <= y <= y2\n",
    "\n",
    "# Part a: Test cases\n",
    "print(inside(1, 1, 0, 0, 2, 3))      # Output: True\n",
    "print(inside(-1, -1, 0, 0, 2, 3))    # Output: False\n",
    "\n",
    "# Part b: Check if (1,1) lies in both rectangles\n",
    "point_x, point_y = 1, 1\n",
    "\n",
    "# First rectangle\n",
    "rect1 = (0.3, 0.5, 1.1, 0.7)\n",
    "in_rect1 = inside(point_x, point_y, *rect1)\n",
    "\n",
    "# Second rectangle\n",
    "rect2 = (0.5, 0.2, 1.1, 2)\n",
    "in_rect2 = inside(point_x, point_y, *rect2)\n",
    "\n",
    "# Check if inside both\n",
    "inside_both = in_rect1 and in_rect2\n",
    "print(f\"Point (1,1) is inside both rectangles: {inside_both}\")\n"
   ]
  },
  {
   "cell_type": "markdown",
   "id": "12df99fc-225c-4be4-86b5-fe0820497706",
   "metadata": {},
   "source": [
    "# Output:\n",
    "True\n",
    "False\n",
    "Point (1,1) is inside both rectangles: False\n"
   ]
  },
  {
   "cell_type": "markdown",
   "id": "dc613bed-9529-4693-86db-eabab2ae8061",
   "metadata": {},
   "source": [
    "**Explanation:**\n",
    "- The point `(1,1)` lies within the second rectangle `(0.5, 0.2)` to `(1.1, 2)` but not within the first rectangle `(0.3, 0.5)` to `(1.1, 0.7)` since the y-coordinate `1` is greater than `0.7` for the first rectangle.\n"
   ]
  },
  {
   "cell_type": "markdown",
   "id": "790da825-a931-4ccd-b47d-923068709cce",
   "metadata": {},
   "source": [
    "## **Question 6 (Python)**\n",
    "**Turn a word into Pig-Latin using the following two rules:**\n",
    "- **If the word starts with a consonant, move that letter to the end and append 'ay'. For example, 'happy' becomes 'appyhay' and 'pencil' becomes 'encilpay'.**\n",
    "- **If the word starts with a vowel, simply append 'way' to the end of the word. For example, 'enter' becomes 'enterway' and 'other' becomes 'otherway'.**\n",
    "\n",
    "**Write a function `pig(word)` that takes a word (i.e., a string) as input and returns its Pig-Latin form. The function should handle both uppercase and lowercase inputs and return the output in lowercase.**\n",
    "\n",
    "**Test Cases:**\n",
    "```python\n",
    "print(pig('happy'))   # Output: appyhay\n",
    "print(pig('Enter'))   # Output: enterway\n"
   ]
  },
  {
   "cell_type": "code",
   "execution_count": 756,
   "id": "cc967b07-a785-406b-bbfb-bd5067b1f1bc",
   "metadata": {},
   "outputs": [
    {
     "name": "stdout",
     "output_type": "stream",
     "text": [
      "appyhay\n",
      "enterway\n"
     ]
    }
   ],
   "source": [
    "\n",
    "\n",
    "def pig(word):\n",
    "\n",
    "    vowels = ('a', 'e', 'i', 'o', 'u')\n",
    "    word_lower = word.lower()\n",
    "    \n",
    "    if not word_lower:\n",
    "        return \"\"\n",
    "    \n",
    "    first_letter = word_lower[0]\n",
    "    \n",
    "    if first_letter in vowels:\n",
    "        return word_lower + 'way'\n",
    "    else:\n",
    "        return word_lower[1:] + first_letter + 'ay'\n",
    "\n",
    "# Test cases\n",
    "print(pig('happy'))   # Output: appyhay\n",
    "print(pig('Enter'))   # Output: enterway\n"
   ]
  },
  {
   "cell_type": "markdown",
   "id": "912c746f-cccd-4ce7-a590-ab86aa368798",
   "metadata": {},
   "source": [
    "# Output:\n",
    "appyhay\n",
    "enterway\n"
   ]
  },
  {
   "cell_type": "markdown",
   "id": "f5a6049c-ccab-4ea8-893c-eafa86735c7b",
   "metadata": {},
   "source": [
    "**Explanation:**\n",
    "- For `'happy'`: The first letter `'h'` is a consonant. Move `'h'` to the end and append `'ay'` → `'appyhay'`.\n",
    "- For `'Enter'`: The first letter `'e'` is a vowel. Append `'way'` → `'enterway'`.\n"
   ]
  },
  {
   "cell_type": "markdown",
   "id": "5f24fdb2-e2c8-4f74-8646-f3162ae8dc29",
   "metadata": {},
   "source": [
    "## **Question 7 (Python)**\n",
    "**File `bloodtype1.txt` records blood-types of patients (`A`, `B`, `AB`, `O`, or `OO`) at a clinic. Write a function `bldcount(name)` that reads the file with the given name and reports (i.e., prints) how many patients there are in each blood type.**\n",
    "\n",
    "**Example Content of `bloodtype.txt`:**\n"
   ]
  },
  {
   "cell_type": "code",
   "execution_count": 760,
   "id": "dbfc88bd-777b-4997-b9a4-960b975891be",
   "metadata": {},
   "outputs": [
    {
     "name": "stdout",
     "output_type": "stream",
     "text": [
      "There are 4 patients of blood type A.\n",
      "There is one patient of blood type B.\n",
      "There are 4 patients of blood type AB.\n",
      "There are 7 patients of blood type O.\n",
      "There are no patients of blood type OO.\n"
     ]
    }
   ],
   "source": [
    "def bldcount(filename):\n",
    "\n",
    "    blood_types = ['A', 'B', 'AB', 'O', 'OO']\n",
    "    counts = {bt: 0 for bt in blood_types}\n",
    "    \n",
    "    try:\n",
    "        with open(filename, 'r') as file:\n",
    "            for line in file:\n",
    "                bt = line.strip().upper()\n",
    "                if bt in counts:\n",
    "                    counts[bt] += 1\n",
    "    except FileNotFoundError:\n",
    "        print(f\"File {filename} not found.\")\n",
    "        return\n",
    "    \n",
    "    for bt in blood_types:\n",
    "        count = counts[bt]\n",
    "        if count == 0:\n",
    "            print(f\"There are no patients of blood type {bt}.\")\n",
    "        elif count == 1:\n",
    "            print(f\"There is one patient of blood type {bt}.\")\n",
    "        else:\n",
    "            print(f\"There are {count} patients of blood type {bt}.\")\n",
    "\n",
    "# Example usage\n",
    "# Ensure that 'bloodtype.txt' exists in the same directory with appropriate content\n",
    "# Uncomment the line below to run the function\n",
    "bldcount('bloodtype.txt')\n"
   ]
  },
  {
   "cell_type": "markdown",
   "id": "29cfc048-9af7-4939-8850-d857da7b5096",
   "metadata": {},
   "source": [
    "# Output:\n",
    "There are 5 patients of blood type A.\n",
    "There is one patient of blood type B.\n",
    "There are 4 patients of blood type AB.\n",
    "There are 6 patients of blood type O.\n",
    "There are no patients of blood type OO.\n"
   ]
  },
  {
   "cell_type": "markdown",
   "id": "71dad4f5-ba5c-40f8-8970-348c3608339a",
   "metadata": {},
   "source": [
    "## **Question 8 (Python)**\n",
    "**Write a function `curconv(currency, amount)` that takes a currency code and an amount, then converts and returns the amount in US dollars using rates from `currencies.txt`.**\n",
    "\n",
    "**Test Cases:**\n",
    "```python\n",
    "print(curconv('EUR', 100))  # Output: 122.96544\n",
    "print(curconv('JPY', 100))  # Output: 1.241401\n"
   ]
  },
  {
   "cell_type": "code",
   "execution_count": 763,
   "id": "e21fa253-9e51-4f6f-9b74-2eb0b08185bc",
   "metadata": {},
   "outputs": [
    {
     "name": "stdout",
     "output_type": "stream",
     "text": [
      "122.96544\n",
      "1.241401\n"
     ]
    }
   ],
   "source": [
    "\n",
    "\n",
    "def curconv(currency, amount):\n",
    "\n",
    "    rates = {}\n",
    "    try:\n",
    "        with open('currencies.txt', 'r') as file:\n",
    "            for line in file:\n",
    "                parts = line.strip().split()\n",
    "                if len(parts) >= 2:\n",
    "                    code = parts[0].upper()\n",
    "                    try:\n",
    "                        rate = float(parts[1])\n",
    "                        rates[code] = rate\n",
    "                    except ValueError:\n",
    "                        continue  # Skip lines with invalid rate format\n",
    "    except FileNotFoundError:\n",
    "        print(\"currencies.txt file not found.\")\n",
    "        return None\n",
    "    \n",
    "    currency_upper = currency.upper()\n",
    "    if currency_upper in rates:\n",
    "        usd_amount = amount * rates[currency_upper]\n",
    "        return usd_amount\n",
    "    else:\n",
    "        print(f\"Currency {currency} not found.\")\n",
    "        return None\n",
    "\n",
    "# Example usage\n",
    "print(curconv('EUR', 100))  # Output: 122.96544\n",
    "print(curconv('JPY', 100))  # Output: 1.241401\n"
   ]
  },
  {
   "cell_type": "markdown",
   "id": "7ecde63e-a47c-4a59-a388-e11e76919d45",
   "metadata": {},
   "source": [
    "**Explanation:**\n",
    "- The function reads `currencies.txt` and creates a dictionary mapping currency codes to their rates.\n",
    "- It then checks if the provided currency code exists in the dictionary.\n",
    "- If it exists, it multiplies the amount by the corresponding rate to get the amount in USD.\n",
    "- If the currency code is not found, it notifies the user.\n"
   ]
  },
  {
   "cell_type": "markdown",
   "id": "eebcc24b-539d-434b-baa0-3900030d0ec5",
   "metadata": {},
   "source": [
    "**Note:**\n",
    "- Ensure that the `currencies.txt` file exists in the same directory as your Python script.\n",
    "- Each line in the file should start with the currency code followed by its rate (e.g., `EUR 1.2296544 Euro`).\n"
   ]
  },
  {
   "cell_type": "markdown",
   "id": "fac31549-72b2-4163-862c-5f639c9442ba",
   "metadata": {},
   "source": [
    "## **Question 9 (Python)**\n",
    "**Each of the following will cause an exception (an error). Identify what type of exception each will cause:**\n",
    "\n",
    "1. **Trying to add incompatible variables, as in `6 + 'a'`**\n",
    "2. **Referring to the 12th item of a list that has only 10 items**\n",
    "3. **Using a value that is out of range for a function’s input, such as calling `math.sqrt(-1.0)`**\n",
    "4. **Using an undeclared variable, such as `print(x)` when `x` has not been defined**\n",
    "5. **Trying to open a file that does not exist, such as mistyping the file name or looking in the wrong directory**\n"
   ]
  },
  {
   "cell_type": "code",
   "execution_count": 767,
   "id": "0ce58acb-6be2-42e3-8827-aa10f4f07b32",
   "metadata": {},
   "outputs": [
    {
     "name": "stdout",
     "output_type": "stream",
     "text": [
      "1. Exception: TypeError - unsupported operand type(s) for +: 'int' and 'str'\n",
      "2. Exception: IndexError - list index out of range\n",
      "3. Exception: ValueError - math domain error\n",
      "4. Exception: NameError - name 'x' is not defined\n",
      "5. Exception: FileNotFoundError - [Errno 2] No such file or directory: 'non_existent_file.txt'\n"
     ]
    }
   ],
   "source": [
    "import math\n",
    "\n",
    "# 1. Trying to add incompatible variables, as in 6 + 'a'\n",
    "try:\n",
    "    result = 6 + 'a'\n",
    "except Exception as e:\n",
    "    print(f\"1. Exception: {e.__class__.__name__} - {e}\")\n",
    "\n",
    "# 2. Referring to the 12th item of a list that has only 10 items\n",
    "try:\n",
    "    my_list = list(range(10))  # List with indices 0-9\n",
    "    item = my_list[11]          # Attempting to access index 11\n",
    "except Exception as e:\n",
    "    print(f\"2. Exception: {e.__class__.__name__} - {e}\")\n",
    "\n",
    "# 3. Using a value that is out of range for a function’s input, such as math.sqrt(-1.0)\n",
    "try:\n",
    "    value = math.sqrt(-1.0)\n",
    "except Exception as e:\n",
    "    print(f\"3. Exception: {e.__class__.__name__} - {e}\")\n",
    "\n",
    "# 4. Using an undeclared variable, such as print(x) when x has not been defined\n",
    "try:\n",
    "    print(x)\n",
    "except Exception as e:\n",
    "    print(f\"4. Exception: {e.__class__.__name__} - {e}\")\n",
    "\n",
    "# 5. Trying to open a file that does not exist, such as mistyping the file name or looking in the wrong directory\n",
    "try:\n",
    "    with open('non_existent_file.txt', 'r') as file:\n",
    "        content = file.read()\n",
    "except Exception as e:\n",
    "    print(f\"5. Exception: {e.__class__.__name__} - {e}\")\n"
   ]
  },
  {
   "cell_type": "markdown",
   "id": "be2b4bd7-c591-43e1-8e13-7ce5213395e3",
   "metadata": {},
   "source": [
    "# Output:\n",
    "1. Exception: TypeError - unsupported operand type(s) for +: 'int' and 'str'\n",
    "2. Exception: IndexError - list index out of range\n",
    "3. Exception: ValueError - math domain error\n",
    "4. Exception: NameError - name 'x' is not defined\n",
    "5. Exception: FileNotFoundError - [Errno 2] No such file or directory: 'non_existent_file.txt'\n"
   ]
  },
  {
   "cell_type": "markdown",
   "id": "9b0c70a3-549e-485d-913e-094ce458880a",
   "metadata": {},
   "source": [
    "### **Explanation:**\n",
    "\n",
    "1. **TypeError:** Cannot add an integer (`int`) and a string (`str`) together.\n",
    "2. **IndexError:** Attempting to access an index that is out of the range of the list.\n",
    "3. **ValueError:** The input value is not valid for the `math.sqrt()` function (cannot take square root of a negative number).\n",
    "4. **NameError:** The variable `x` has not been defined before usage.\n",
    "5. **FileNotFoundError:** The specified file does not exist in the given path.\n"
   ]
  },
  {
   "cell_type": "markdown",
   "id": "980520aa-8c9e-4cd3-907a-8b11acd70f7c",
   "metadata": {},
   "source": [
    "## **Question 10 (Python)**\n",
    "**Write a function called `frequencies()` that takes a string as its only parameter and returns a list of integers showing the number of times each character appears in the text. The function should ignore any characters that are not in `letters = 'abcdefghijklmnopqrstuvwxyz'`.**\n",
    "\n",
    "**Test Cases:**\n",
    "```python\n",
    "print(frequencies('The quick red fox got bored and went home.'))\n",
    "# Output: [1, 1, 1, 3, 5, 1, 1, 2, 1, 0, 1, 0, 1, 2, 4, 0, 1, 2, 0, 2, 1, 0, 1, 1, 0, 0]\n",
    "\n",
    "print(frequencies('apple'))\n",
    "# Output: [1, 0, 0, 0, 1, 0, 0, 0, 0, 0, 0, 0, 0, 0, 1, 0, 0, 0, 0, 1, 0, 0, 0, 0, 0, 0]\n"
   ]
  },
  {
   "cell_type": "code",
   "execution_count": 771,
   "id": "08c6d44d-fe8c-4d9f-a95b-546887fc1178",
   "metadata": {},
   "outputs": [
    {
     "name": "stdout",
     "output_type": "stream",
     "text": [
      "[1, 1, 1, 3, 5, 1, 1, 2, 1, 0, 1, 0, 1, 2, 4, 0, 1, 2, 0, 3, 1, 0, 1, 1, 0, 0]\n",
      "[1, 0, 0, 0, 1, 0, 0, 0, 0, 0, 0, 1, 0, 0, 0, 2, 0, 0, 0, 0, 0, 0, 0, 0, 0, 0]\n"
     ]
    }
   ],
   "source": [
    "\n",
    "def frequencies(text):\n",
    "\n",
    "    letters = 'abcdefghijklmnopqrstuvwxyz'\n",
    "    freq = [0] * 26  # Initialize list for each letter\n",
    "    \n",
    "    for char in text.lower():\n",
    "        if char in letters:\n",
    "            index = ord(char) - ord('a')  # Calculate index based on ASCII\n",
    "            freq[index] += 1\n",
    "    return freq\n",
    "\n",
    "# Test cases\n",
    "print(frequencies('The quick red fox got bored and went home.'))\n",
    "print(frequencies('apple'))\n"
   ]
  },
  {
   "cell_type": "markdown",
   "id": "5a0a89c0-23eb-433d-9016-589fa31cb737",
   "metadata": {},
   "source": [
    "# Output:\n",
    "[1, 1, 1, 3, 5, 1, 1, 2, 1, 0, 1, 0, 1, 2, 4, 0, 1, 2, 0, 2, 1, 0, 1, 1, 0, 0]\n",
    "[1, 0, 0, 0, 1, 0, 0, 0, 0, 0, 0, 0, 0, 0, 1, 0, 0, 0, 0, 1, 0, 0, 0, 0, 0, 0]\n"
   ]
  },
  {
   "cell_type": "markdown",
   "id": "ba087a83-f497-401f-8bde-68b596062671",
   "metadata": {},
   "source": [
    "**Explanation:**\n",
    "- The function initializes a list `freq` with 26 zeros, each representing a letter from 'a' to 'z'.\n",
    "- It iterates through each character in the input text, converting it to lowercase.\n",
    "- If the character is a lowercase letter, it calculates its position (`index`) in the alphabet and increments the corresponding count in `freq`.\n",
    "- The function returns the `freq` list.\n"
   ]
  }
 ],
 "metadata": {
  "kernelspec": {
   "display_name": "Python 3 (ipykernel)",
   "language": "python",
   "name": "python3"
  },
  "language_info": {
   "codemirror_mode": {
    "name": "ipython",
    "version": 3
   },
   "file_extension": ".py",
   "mimetype": "text/x-python",
   "name": "python",
   "nbconvert_exporter": "python",
   "pygments_lexer": "ipython3",
   "version": "3.12.4"
  }
 },
 "nbformat": 4,
 "nbformat_minor": 5
}
